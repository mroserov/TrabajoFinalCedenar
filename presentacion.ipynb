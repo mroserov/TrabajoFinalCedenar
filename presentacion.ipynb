{
 "cells": [
  {
   "cell_type": "markdown",
   "metadata": {
    "slideshow": {
     "slide_type": "slide"
    }
   },
   "source": [
    "# CONSTRUCCIÓN DE UN MODELO PARA LA PREVENCIÓN DE FALLAS EN LOS CIRCUITOS ELÉCTRICOS DE CEDENAR S.A. E.S.P. USANDO TÉCNICAS DE MACHINE LEARNING\n",
    "Mario Andrés Rosero Vallejo"
   ]
  },
  {
   "cell_type": "markdown",
   "metadata": {
    "slideshow": {
     "slide_type": "subslide"
    }
   },
   "source": [
    "## Informe final presentado como requisito para optar el título de Ingeniero de Sistemas"
   ]
  },
  {
   "cell_type": "markdown",
   "metadata": {
    "slideshow": {
     "slide_type": "slide"
    }
   },
   "source": [
    "# Gracias\n"
   ]
  }
 ],
 "metadata": {
  "celltoolbar": "Slideshow",
  "kernelspec": {
   "display_name": "Python 3",
   "language": "python",
   "name": "python3"
  },
  "language_info": {
   "codemirror_mode": {
    "name": "ipython",
    "version": 3
   },
   "file_extension": ".py",
   "mimetype": "text/x-python",
   "name": "python",
   "nbconvert_exporter": "python",
   "pygments_lexer": "ipython3",
   "version": "3.6.2"
  },
  "livereveal": {
   "autolaunch": true,
   "scroll": true
   "header":"UDENAR"
  }
 },
 "nbformat": 4,
 "nbformat_minor": 2
}
